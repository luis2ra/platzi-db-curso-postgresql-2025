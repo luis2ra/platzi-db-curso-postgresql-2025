{
 "cells": [
  {
   "cell_type": "code",
   "execution_count": 1,
   "id": "9469be51",
   "metadata": {},
   "outputs": [
    {
     "name": "stdout",
     "output_type": "stream",
     "text": [
      "Collecting psycopg2-binary\n",
      "  Using cached psycopg2_binary-2.9.10-cp310-cp310-manylinux_2_17_x86_64.manylinux2014_x86_64.whl.metadata (4.9 kB)\n",
      "Collecting pandas\n",
      "  Using cached pandas-2.2.3-cp310-cp310-manylinux_2_17_x86_64.manylinux2014_x86_64.whl.metadata (89 kB)\n",
      "Collecting numpy>=1.22.4 (from pandas)\n",
      "  Using cached numpy-2.2.5-cp310-cp310-manylinux_2_17_x86_64.manylinux2014_x86_64.whl.metadata (62 kB)\n",
      "Requirement already satisfied: python-dateutil>=2.8.2 in ./.venv/lib/python3.10/site-packages (from pandas) (2.9.0.post0)\n",
      "Collecting pytz>=2020.1 (from pandas)\n",
      "  Using cached pytz-2025.2-py2.py3-none-any.whl.metadata (22 kB)\n",
      "Collecting tzdata>=2022.7 (from pandas)\n",
      "  Using cached tzdata-2025.2-py2.py3-none-any.whl.metadata (1.4 kB)\n",
      "Requirement already satisfied: six>=1.5 in ./.venv/lib/python3.10/site-packages (from python-dateutil>=2.8.2->pandas) (1.17.0)\n",
      "Using cached psycopg2_binary-2.9.10-cp310-cp310-manylinux_2_17_x86_64.manylinux2014_x86_64.whl (3.0 MB)\n",
      "Using cached pandas-2.2.3-cp310-cp310-manylinux_2_17_x86_64.manylinux2014_x86_64.whl (13.1 MB)\n",
      "Using cached numpy-2.2.5-cp310-cp310-manylinux_2_17_x86_64.manylinux2014_x86_64.whl (16.4 MB)\n",
      "Using cached pytz-2025.2-py2.py3-none-any.whl (509 kB)\n",
      "Using cached tzdata-2025.2-py2.py3-none-any.whl (347 kB)\n",
      "Installing collected packages: pytz, tzdata, psycopg2-binary, numpy, pandas\n",
      "\u001b[2K   \u001b[90m━━━━━━━━━━━━━━━━━━━━━━━━━━━━━━━━━━━━━━━━\u001b[0m \u001b[32m5/5\u001b[0m [pandas]2m4/5\u001b[0m [pandas]2-binary]\n",
      "\u001b[1A\u001b[2KSuccessfully installed numpy-2.2.5 pandas-2.2.3 psycopg2-binary-2.9.10 pytz-2025.2 tzdata-2025.2\n"
     ]
    }
   ],
   "source": [
    "!pip install psycopg2-binary pandas"
   ]
  },
  {
   "cell_type": "code",
   "execution_count": 2,
   "id": "f2c1d671",
   "metadata": {},
   "outputs": [
    {
     "name": "stdout",
     "output_type": "stream",
     "text": [
      "   customer_id  store_id first_name last_name  \\\n",
      "0          524         1      Jared       Ely   \n",
      "1            1         1       Mary     Smith   \n",
      "2            2         1   Patricia   Johnson   \n",
      "3            3         1      Linda  Williams   \n",
      "4            4         2    Barbara     Jones   \n",
      "5            5         1  Elizabeth     Brown   \n",
      "\n",
      "                                 email  address_id  activebool create_date  \\\n",
      "0         jared.ely@sakilacustomer.org         530        True  2006-02-14   \n",
      "1        mary.smith@sakilacustomer.org           5        True  2006-02-14   \n",
      "2  patricia.johnson@sakilacustomer.org           6        True  2006-02-14   \n",
      "3    linda.williams@sakilacustomer.org           7        True  2006-02-14   \n",
      "4     barbara.jones@sakilacustomer.org           8        True  2006-02-14   \n",
      "5   elizabeth.brown@sakilacustomer.org           9        True  2006-02-14   \n",
      "\n",
      "              last_update  active  \n",
      "0 2013-05-26 14:49:45.738       1  \n",
      "1 2013-05-26 14:49:45.738       1  \n",
      "2 2013-05-26 14:49:45.738       1  \n",
      "3 2013-05-26 14:49:45.738       1  \n",
      "4 2013-05-26 14:49:45.738       1  \n",
      "5 2013-05-26 14:49:45.738       1  \n"
     ]
    }
   ],
   "source": [
    "import psycopg2\n",
    "import pandas as pd\n",
    "\n",
    "conn = psycopg2.connect(\n",
    "    dbname=\"dvdrental\",\n",
    "    user=\"postgres\",\n",
    "    password=\"Pl1tz3_r5l2s\",\n",
    "    host=\"172.29.39.4\",\n",
    "    port=\"5432\"\n",
    ")\n",
    "\n",
    "cur = conn.cursor()\n",
    "cur.execute(\"SELECT * FROM customer LIMIT 6;\")\n",
    "\n",
    "columns = [desc[0] for desc in cur.description] \n",
    "data = cur.fetchall()  # Obtener los datos\n",
    "df = pd.DataFrame(data, columns=columns)\n",
    "print(df) \n",
    "\n",
    "cur.close()\n",
    "conn.close()"
   ]
  }
 ],
 "metadata": {
  "kernelspec": {
   "display_name": ".venv",
   "language": "python",
   "name": "python3"
  },
  "language_info": {
   "codemirror_mode": {
    "name": "ipython",
    "version": 3
   },
   "file_extension": ".py",
   "mimetype": "text/x-python",
   "name": "python",
   "nbconvert_exporter": "python",
   "pygments_lexer": "ipython3",
   "version": "3.10.12"
  }
 },
 "nbformat": 4,
 "nbformat_minor": 5
}
